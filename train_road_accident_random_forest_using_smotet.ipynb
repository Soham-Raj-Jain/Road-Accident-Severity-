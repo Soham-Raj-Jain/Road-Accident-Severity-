{
 "cells": [
  {
   "cell_type": "code",
   "execution_count": 1,
   "id": "a71c9511-5c3a-4598-a6fd-986e948dbc73",
   "metadata": {},
   "outputs": [
    {
     "name": "stdout",
     "output_type": "stream",
     "text": [
      "Loading the dataset...\n",
      "value counts for Accident_Severity\n",
      "3    51891\n",
      "2     7364\n",
      "1      645\n",
      "Name: count, dtype: int64 \n",
      "Model Training...\n",
      "Saving the model...\n",
      "Model training and saving took 46.56 seconds\n",
      "Training Set Metrics:\n",
      "Training Accuracy Random Forest: 100.00%\n",
      "Training Precision Random Forest: 100.00%\n",
      "Training Recall Random Forest: 100.00%\n",
      "\n",
      "Test Set Metrics:\n",
      "Test Accuracy Random Forest: 84.13%\n",
      "Test Precision Random Forest: 79.38%\n",
      "Test Recall Random Forest: 84.13%\n"
     ]
    }
   ],
   "source": [
    "import numpy as np\n",
    "import pandas as pd\n",
    "import time\n",
    "import pickle\n",
    "from sklearn.model_selection import train_test_split\n",
    "from sklearn.preprocessing import StandardScaler\n",
    "from sklearn.ensemble import RandomForestClassifier\n",
    "from sklearn.metrics import accuracy_score, precision_score, recall_score\n",
    "from imblearn.over_sampling import SMOTE\n",
    "from sklearn.pipeline import Pipeline\n",
    "from imblearn.pipeline import Pipeline as ImbPipeline\n",
    "\n",
    "def evaluate_classification(model, name, X_train, X_test, y_train, y_test):\n",
    "    train_predictions = model.predict(X_train)\n",
    "    test_predictions = model.predict(X_test)\n",
    "\n",
    "    train_accuracy = accuracy_score(y_train, train_predictions)\n",
    "    test_accuracy = accuracy_score(y_test, test_predictions)\n",
    "\n",
    "    train_precision = precision_score(y_train, train_predictions, average='weighted')\n",
    "    test_precision = precision_score(y_test, test_predictions, average='weighted')\n",
    "\n",
    "    train_recall = recall_score(y_train, train_predictions, average='weighted')\n",
    "    test_recall = recall_score(y_test, test_predictions, average='weighted')\n",
    "\n",
    "    print(\"Training Set Metrics:\")\n",
    "    print(\"Training Accuracy {}: {:.2f}%\".format(name, train_accuracy * 100))\n",
    "    print(\"Training Precision {}: {:.2f}%\".format(name, train_precision * 100))\n",
    "    print(\"Training Recall {}: {:.2f}%\".format(name, train_recall * 100))\n",
    "\n",
    "    print(\"\\nTest Set Metrics:\")\n",
    "    print(\"Test Accuracy {}: {:.2f}%\".format(name, test_accuracy * 100))\n",
    "    print(\"Test Precision {}: {:.2f}%\".format(name, test_precision * 100))\n",
    "    print(\"Test Recall {}: {:.2f}%\".format(name, test_recall * 100))\n",
    "\n",
    "def preprocess_data(df):\n",
    "    scaler = StandardScaler()\n",
    "    numerical_features = ['longitude', 'latitude', 'Speed_limit', 'hour', 'minute']\n",
    "    df[numerical_features] = scaler.fit_transform(df[numerical_features])\n",
    "    return df\n",
    "\n",
    "def train_and_save_model(data_file, model_file, num_rows=None):\n",
    "    start_time = time.time()\n",
    "    print(\"Loading the dataset...\")\n",
    "    df = pd.read_csv(data_file)\n",
    "\n",
    "    df[['hour', 'minute']] = df['Time'].str.split(':', expand=True).astype('int32')\n",
    "\n",
    "    print(f\"value counts for {df['Accident_Severity'].value_counts()} \")\n",
    "    #print(f\"columns for {df.columns} \")\n",
    "\n",
    "    features = ['longitude', 'latitude', 'Speed_limit', 'hour', 'minute','Number_of_Vehicles', 'Number_of_Casualties',\n",
    "       'Day_of_Week','Light_Conditions',\n",
    "       'Weather_Conditions', 'Road_Surface_Conditions','2nd_Road_Class','1st_Road_Class','Carriageway_Hazards']\n",
    "    X = df[features]\n",
    "    y = df['Accident_Severity']\n",
    "\n",
    "    pipeline = ImbPipeline([\n",
    "        ('preprocess', StandardScaler()),\n",
    "        ('sampling', SMOTE(random_state=20)),\n",
    "        ('classifier', RandomForestClassifier(n_estimators=100))\n",
    "    ])\n",
    "\n",
    "    X_train, X_test, y_train, y_test = train_test_split(X, y, test_size=0.2, random_state=7)\n",
    "\n",
    "    print(\"Model Training...\")\n",
    "    # Training the model on the training dataset\n",
    "    pipeline.fit(X_train, y_train)\n",
    "\n",
    "    print(\"Saving the model...\")\n",
    "    # Save the trained model\n",
    "    with open(model_file, \"wb\") as f:\n",
    "        pickle.dump(pipeline, f)\n",
    "\n",
    "    end_time = time.time()\n",
    "    print(f\"Model training and saving took {end_time - start_time:.2f} seconds\")\n",
    "    evaluate_classification(pipeline, \"Random Forest\", X_train, X_test, y_train, y_test)\n",
    "\n",
    "if __name__ == \"__main__\":\n",
    "    data_file = \"clean_df.csv\"\n",
    "    model_file = \"random_forest_model_smote_train1.pkl\"\n",
    "    num_rows = None  # Set the number of rows for training (e.g., num_rows = 1000000)\n",
    "    train_and_save_model(data_file, model_file, num_rows)\n"
   ]
  },
  {
   "cell_type": "code",
   "execution_count": 6,
   "id": "9c1f8ccc-ca57-4c4b-8c3c-b96fc078318e",
   "metadata": {},
   "outputs": [
    {
     "ename": "NameError",
     "evalue": "name 'train_predictions' is not defined",
     "output_type": "error",
     "traceback": [
      "\u001b[1;31m---------------------------------------------------------------------------\u001b[0m",
      "\u001b[1;31mNameError\u001b[0m                                 Traceback (most recent call last)",
      "Cell \u001b[1;32mIn[6], line 2\u001b[0m\n\u001b[0;32m      1\u001b[0m \u001b[38;5;28;01mfrom\u001b[39;00m \u001b[38;5;21;01msklearn\u001b[39;00m \u001b[38;5;28;01mimport\u001b[39;00m metrics\n\u001b[1;32m----> 2\u001b[0m confusion_matrix \u001b[38;5;241m=\u001b[39m metrics\u001b[38;5;241m.\u001b[39mconfusion_matrix(\u001b[43mtrain_predictions\u001b[49m, test_predicition)\n\u001b[0;32m      4\u001b[0m cm_display \u001b[38;5;241m=\u001b[39m metrics\u001b[38;5;241m.\u001b[39mConfusionMatrixDisplay(confusion_matrix \u001b[38;5;241m=\u001b[39m confusion_matrix, display_labels \u001b[38;5;241m=\u001b[39m [\u001b[38;5;241m0\u001b[39m, \u001b[38;5;241m1\u001b[39m])\n\u001b[0;32m      6\u001b[0m cm_display\u001b[38;5;241m.\u001b[39mplot()\n",
      "\u001b[1;31mNameError\u001b[0m: name 'train_predictions' is not defined"
     ]
    }
   ],
   "source": [
    "from sklearn import metrics\n",
    "confusion_matrix = metrics.confusion_matrix(train_predictions, test_predicitions)\n",
    "\n",
    "cm_display = metrics.ConfusionMatrixDisplay(confusion_matrix = confusion_matrix, display_labels = [0, 1])\n",
    "\n",
    "cm_display.plot()\n",
    "plt.show()"
   ]
  },
  {
   "cell_type": "code",
   "execution_count": null,
   "id": "ca32a129-3aa5-4b41-8bad-6089c11ff714",
   "metadata": {},
   "outputs": [],
   "source": []
  },
  {
   "cell_type": "code",
   "execution_count": 2,
   "id": "0f277581-94c4-4f05-8542-1be114990da2",
   "metadata": {},
   "outputs": [],
   "source": []
  },
  {
   "cell_type": "code",
   "execution_count": null,
   "id": "0ee80687-ba8e-4f87-a1c1-8a34f92f0667",
   "metadata": {},
   "outputs": [],
   "source": []
  },
  {
   "cell_type": "code",
   "execution_count": null,
   "id": "f284e7a9-3fac-40a3-9747-6fcbe422a896",
   "metadata": {},
   "outputs": [],
   "source": []
  }
 ],
 "metadata": {
  "kernelspec": {
   "display_name": "Python 3 (ipykernel)",
   "language": "python",
   "name": "python3"
  },
  "language_info": {
   "codemirror_mode": {
    "name": "ipython",
    "version": 3
   },
   "file_extension": ".py",
   "mimetype": "text/x-python",
   "name": "python",
   "nbconvert_exporter": "python",
   "pygments_lexer": "ipython3",
   "version": "3.8.16"
  }
 },
 "nbformat": 4,
 "nbformat_minor": 5
}

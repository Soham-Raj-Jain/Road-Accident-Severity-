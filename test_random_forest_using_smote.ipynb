{
 "cells": [
  {
   "cell_type": "code",
   "execution_count": 3,
   "id": "7b7cd8ee-e164-4f94-ab0e-e26f86cdc246",
   "metadata": {},
   "outputs": [
    {
     "name": "stdout",
     "output_type": "stream",
     "text": [
      "Loading dataset...\n",
      "Prediction took 25.61 seconds\n",
      "\n",
      "\n",
      "------------------result----------------\n",
      "\n",
      "\n",
      "Accuracy: 77.23%\n",
      "              precision    recall  f1-score   support\n",
      "\n",
      "           1       0.07      0.08      0.07       136\n",
      "           2       0.20      0.25      0.22      1485\n",
      "           3       0.88      0.86      0.87     10359\n",
      "\n",
      "    accuracy                           0.77     11980\n",
      "   macro avg       0.39      0.39      0.39     11980\n",
      "weighted avg       0.79      0.77      0.78     11980\n",
      "\n"
     ]
    }
   ],
   "source": [
    "import pandas as pd\n",
    "import numpy as np\n",
    "from sklearn import metrics\n",
    "from joblib import load\n",
    "from sklearn.metrics import accuracy_score\n",
    "import time\n",
    "from sklearn.preprocessing import StandardScaler\n",
    "from sklearn.model_selection import train_test_split\n",
    "from imblearn.over_sampling import SMOTE\n",
    "from sklearn.ensemble import RandomForestClassifier\n",
    "from imblearn.pipeline import Pipeline as ImbPipeline\n",
    "\n",
    "# Function to preprocess and scale numerical columns\n",
    "def preprocess_and_scale(df, numerical_features):\n",
    "    scaler = StandardScaler()\n",
    "    df[numerical_features] = scaler.fit_transform(df[numerical_features])\n",
    "    return df\n",
    "\n",
    "def print_classification_report(y_true, y_pred):\n",
    "    print(\"\\n\\n------------------result----------------\\n\\n\")\n",
    "    accuracy = accuracy_score(y_true, y_pred)\n",
    "    print(f\"Accuracy: {accuracy * 100:.2f}%\")\n",
    "    print(metrics.classification_report(y_true, y_pred))\n",
    "\n",
    "def test_model(num_records=50):  # Specify the number of records for testing, default is 50\n",
    "    # Load the trained model\n",
    "    model = load(\"random_forest_model_smote_train1.pkl\")\n",
    "\n",
    "    # Load the test data\n",
    "    print(\"Loading dataset...\")\n",
    "    df = pd.read_csv(\"clean_df.csv\") # Load only the first 'num_records' rows\n",
    "    df[['hour', 'minute']] = df['Time'].str.split(':', expand=True).astype('int32')\n",
    "\n",
    "    features = ['longitude', 'latitude', 'Speed_limit', 'hour', 'minute','Number_of_Vehicles', 'Number_of_Casualties',\n",
    "       'Day_of_Week','Light_Conditions',\n",
    "       'Weather_Conditions', 'Road_Surface_Conditions','Carriageway_Hazards']\n",
    "    X = df[features]\n",
    "    y = df['Accident_Severity']\n",
    "\n",
    "\n",
    "    X_train, X_test, y_train, y_test = train_test_split(X, y, test_size=0.2, random_state=7)\n",
    "\n",
    "    # Define the pipeline\n",
    "    pipeline = ImbPipeline([\n",
    "        ('sampling', SMOTE(random_state=12)),\n",
    "        ('classifier', model)\n",
    "    ])\n",
    "\n",
    "    # Fit the pipeline and make predictions on the test data\n",
    "    start_time = time.time()\n",
    "    pipeline.fit(X_train, y_train)\n",
    "    y_pred = pipeline.predict(X_test)\n",
    "    end_time = time.time()\n",
    "    print(f\"Prediction took {end_time - start_time:.2f} seconds\")\n",
    "\n",
    "    print_classification_report(y_test, y_pred)\n",
    "\n",
    "if __name__ == \"__main__\":\n",
    "    test_model()\n"
   ]
  },
  {
   "cell_type": "code",
   "execution_count": null,
   "id": "bca5cf3b-3752-4d70-9c33-197a9c031d06",
   "metadata": {},
   "outputs": [],
   "source": []
  }
 ],
 "metadata": {
  "kernelspec": {
   "display_name": "Python 3 (ipykernel)",
   "language": "python",
   "name": "python3"
  },
  "language_info": {
   "codemirror_mode": {
    "name": "ipython",
    "version": 3
   },
   "file_extension": ".py",
   "mimetype": "text/x-python",
   "name": "python",
   "nbconvert_exporter": "python",
   "pygments_lexer": "ipython3",
   "version": "3.12.2"
  }
 },
 "nbformat": 4,
 "nbformat_minor": 5
}

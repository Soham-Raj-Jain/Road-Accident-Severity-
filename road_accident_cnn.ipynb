{
 "cells": [
  {
   "cell_type": "code",
   "execution_count": 1,
   "id": "db0ef60a-3874-4559-949d-b7421d19a847",
   "metadata": {},
   "outputs": [
    {
     "name": "stdout",
     "output_type": "stream",
     "text": [
      "Loading the dataset...\n",
      "Model Training...\n",
      "Epoch 1/5\n",
      "1348/1348 [==============================] - 4s 2ms/step - loss: -36384.1211 - accuracy: 0.0105 - val_loss: -139994.6406 - val_accuracy: 0.0115\n",
      "Epoch 2/5\n",
      "1348/1348 [==============================] - 3s 2ms/step - loss: -461133.7500 - accuracy: 0.0105 - val_loss: -903447.1875 - val_accuracy: 0.0115\n",
      "Epoch 3/5\n",
      "1348/1348 [==============================] - 3s 2ms/step - loss: -1652488.2500 - accuracy: 0.0105 - val_loss: -2524555.5000 - val_accuracy: 0.0115\n",
      "Epoch 4/5\n",
      "1348/1348 [==============================] - 3s 2ms/step - loss: -3777913.7500 - accuracy: 0.0105 - val_loss: -5135819.0000 - val_accuracy: 0.0115\n",
      "Epoch 5/5\n",
      "1348/1348 [==============================] - 3s 2ms/step - loss: -6966577.0000 - accuracy: 0.0105 - val_loss: -8865591.0000 - val_accuracy: 0.0115\n",
      "Saving the model...\n",
      "Model training and saving took 16.35 seconds\n"
     ]
    },
    {
     "name": "stderr",
     "output_type": "stream",
     "text": [
      "C:\\Users\\KIIT\\AppData\\Roaming\\jupyterlab-desktop\\jlab_server\\lib\\site-packages\\keras\\src\\engine\\training.py:3000: UserWarning: You are saving your model as an HDF5 file via `model.save()`. This file format is considered legacy. We recommend using instead the native Keras format, e.g. `model.save('my_model.keras')`.\n",
      "  saving_api.save_model(\n"
     ]
    },
    {
     "ename": "TypeError",
     "evalue": "evaluate_classification() missing 2 required positional arguments: 'y_train' and 'y_test'",
     "output_type": "error",
     "traceback": [
      "\u001b[1;31m---------------------------------------------------------------------------\u001b[0m",
      "\u001b[1;31mTypeError\u001b[0m                                 Traceback (most recent call last)",
      "Cell \u001b[1;32mIn[1], line 83\u001b[0m\n\u001b[0;32m     81\u001b[0m \u001b[38;5;28;01mif\u001b[39;00m \u001b[38;5;18m__name__\u001b[39m \u001b[38;5;241m==\u001b[39m \u001b[38;5;124m\"\u001b[39m\u001b[38;5;124m__main__\u001b[39m\u001b[38;5;124m\"\u001b[39m:\n\u001b[0;32m     82\u001b[0m     num_rows \u001b[38;5;241m=\u001b[39m \u001b[38;5;28;01mNone\u001b[39;00m  \u001b[38;5;66;03m# Set the number of rows for training (e.g., num_rows = 1000000)\u001b[39;00m\n\u001b[1;32m---> 83\u001b[0m     \u001b[43mtrain_and_save_model\u001b[49m\u001b[43m(\u001b[49m\u001b[43mnum_rows\u001b[49m\u001b[43m)\u001b[49m\n",
      "Cell \u001b[1;32mIn[1], line 79\u001b[0m, in \u001b[0;36mtrain_and_save_model\u001b[1;34m(num_rows)\u001b[0m\n\u001b[0;32m     77\u001b[0m end_time \u001b[38;5;241m=\u001b[39m time\u001b[38;5;241m.\u001b[39mtime()\n\u001b[0;32m     78\u001b[0m \u001b[38;5;28mprint\u001b[39m(\u001b[38;5;124mf\u001b[39m\u001b[38;5;124m\"\u001b[39m\u001b[38;5;124mModel training and saving took \u001b[39m\u001b[38;5;132;01m{\u001b[39;00mend_time\u001b[38;5;250m \u001b[39m\u001b[38;5;241m-\u001b[39m\u001b[38;5;250m \u001b[39mstart_time\u001b[38;5;132;01m:\u001b[39;00m\u001b[38;5;124m.2f\u001b[39m\u001b[38;5;132;01m}\u001b[39;00m\u001b[38;5;124m seconds\u001b[39m\u001b[38;5;124m\"\u001b[39m)\n\u001b[1;32m---> 79\u001b[0m \u001b[43mevaluate_classification\u001b[49m\u001b[43m(\u001b[49m\u001b[43mmodel\u001b[49m\u001b[43m,\u001b[49m\u001b[43m \u001b[49m\u001b[38;5;124;43m\"\u001b[39;49m\u001b[38;5;124;43mCNN\u001b[39;49m\u001b[38;5;124;43m\"\u001b[39;49m\u001b[43m,\u001b[49m\u001b[43m \u001b[49m\u001b[43my_train\u001b[49m\u001b[43m,\u001b[49m\u001b[43m \u001b[49m\u001b[43my_test\u001b[49m\u001b[43m)\u001b[49m\n",
      "\u001b[1;31mTypeError\u001b[0m: evaluate_classification() missing 2 required positional arguments: 'y_train' and 'y_test'"
     ]
    }
   ],
   "source": [
    "import numpy as np\n",
    "import pandas as pd\n",
    "import pickle\n",
    "import time\n",
    "from sklearn.model_selection import train_test_split\n",
    "from sklearn.preprocessing import StandardScaler\n",
    "from sklearn.metrics import accuracy_score, precision_score, recall_score, confusion_matrix\n",
    "import tensorflow as tf\n",
    "from tensorflow.keras.models import Sequential\n",
    "from tensorflow.keras.layers import Conv1D, MaxPooling1D, Flatten, Dense\n",
    "\n",
    "def evaluate_classification(model, name, X_train, X_test, y_train, y_test):\n",
    "    train_predictions = model.predict(X_train)\n",
    "    test_predictions = model.predict(X_test)\n",
    "\n",
    "    train_accuracy = accuracy_score(y_train, train_predictions)\n",
    "    test_accuracy = accuracy_score(y_test, test_predictions)\n",
    "\n",
    "    train_precision = precision_score(y_train, train_predictions, average='weighted')\n",
    "    test_precision = precision_score(y_test, test_predictions, average='weighted')\n",
    "\n",
    "    train_recall = recall_score(y_train, train_predictions, average='weighted')\n",
    "    test_recall = recall_score(y_test, test_predictions, average='weighted')\n",
    "\n",
    "    print(\"Training Set Metrics:\")\n",
    "    print(\"Training Accuracy {}: {:.2f}%\".format(name, train_accuracy * 100))\n",
    "    print(\"Training Precision {}: {:.2f}%\".format(name, train_precision * 100))\n",
    "    print(\"Training Recall {}: {:.2f}%\".format(name, train_recall * 100))\n",
    "\n",
    "    print(\"\\nTest Set Metrics:\")\n",
    "    print(\"Test Accuracy {}: {:.2f}%\".format(name, test_accuracy * 100))\n",
    "    print(\"Test Precision {}: {:.2f}%\".format(name, test_precision * 100))\n",
    "    print(\"Test Recall {}: {:.2f}%\".format(name, test_recall * 100))\n",
    "\n",
    "def preprocess_data(df):\n",
    "    # Perform one-hot encoding for categorical columns if needed\n",
    "    # Example: df = pd.get_dummies(df, columns=['categorical_column'])\n",
    "\n",
    "    # Data transformation\n",
    "    scaler = StandardScaler()\n",
    "    numerical_features = ['longitude', 'latitude', 'Speed_limit', 'hour', 'minute']\n",
    "    df[numerical_features] = scaler.fit_transform(df[numerical_features])\n",
    "    return df\n",
    "\n",
    "def train_and_save_model(num_rows=None):\n",
    "    start_time = time.time()\n",
    "    print(\"Loading the dataset...\")\n",
    "    df = pd.read_csv(\"clean_df.csv\")\n",
    "\n",
    "    df[['hour', 'minute']] = df['Time'].str.split(':', expand=True).astype('int32')\n",
    "    df = preprocess_data(df)\n",
    "\n",
    "    features = ['longitude', 'latitude', 'Speed_limit', 'hour', 'minute']\n",
    "    X = df[features]\n",
    "    y = df['Accident_Severity']\n",
    "\n",
    "    X_train, X_test, y_train, y_test = train_test_split(X, y, test_size=0.2, random_state=7)\n",
    "\n",
    "    print(\"Model Training...\")\n",
    "    X_train = np.expand_dims(X_train, axis=-1)\n",
    "    X_test = np.expand_dims(X_test, axis=-1)\n",
    "\n",
    "    model = Sequential([\n",
    "        Conv1D(filters=64, kernel_size=3, activation='relu', input_shape=(X_train.shape[1], 1)),\n",
    "        MaxPooling1D(pool_size=2),\n",
    "        Flatten(),\n",
    "        Dense(64, activation='relu'),\n",
    "        Dense(1, activation='sigmoid')\n",
    "    ])\n",
    "\n",
    "    model.compile(optimizer='adam', loss='binary_crossentropy', metrics=['accuracy'])\n",
    "    model.fit(X_train, y_train, epochs=5, batch_size=32, validation_split=0.1)\n",
    "\n",
    "    print(\"Saving the model...\")\n",
    "    model.save(\"model.h5\")\n",
    "\n",
    "    end_time = time.time()\n",
    "    print(f\"Model training and saving took {end_time - start_time:.2f} seconds\")\n",
    "    evaluate_classification(model, \"CNN\", y_train, y_test)\n",
    "\n",
    "if __name__ == \"__main__\":\n",
    "    num_rows = None  # Set the number of rows for training (e.g., num_rows = 1000000)\n",
    "    train_and_save_model(num_rows)\n"
   ]
  },
  {
   "cell_type": "code",
   "execution_count": 2,
   "id": "e5ac9879-f1af-4c49-8944-cebd171da69d",
   "metadata": {},
   "outputs": [
    {
     "name": "stdout",
     "output_type": "stream",
     "text": [
      "Loading the dataset...\n",
      "Model Training...\n",
      "Epoch 1/10\n"
     ]
    },
    {
     "name": "stderr",
     "output_type": "stream",
     "text": [
      "C:\\Users\\WELCOME\\AppData\\Local\\Programs\\Python\\Python312\\Lib\\site-packages\\keras\\src\\layers\\convolutional\\base_conv.py:99: UserWarning: Do not pass an `input_shape`/`input_dim` argument to a layer. When using Sequential models, prefer using an `Input(shape)` object as the first layer in the model instead.\n",
      "  super().__init__(\n"
     ]
    },
    {
     "name": "stdout",
     "output_type": "stream",
     "text": [
      "\u001b[1m1348/1348\u001b[0m \u001b[32m━━━━━━━━━━━━━━━━━━━━\u001b[0m\u001b[37m\u001b[0m \u001b[1m4s\u001b[0m 2ms/step - accuracy: 0.0105 - loss: -9659.9268 - val_accuracy: 0.0115 - val_loss: -144380.2344\n",
      "Epoch 2/10\n",
      "\u001b[1m1348/1348\u001b[0m \u001b[32m━━━━━━━━━━━━━━━━━━━━\u001b[0m\u001b[37m\u001b[0m \u001b[1m3s\u001b[0m 2ms/step - accuracy: 0.0105 - loss: -286325.9375 - val_accuracy: 0.0115 - val_loss: -919661.3125\n",
      "Epoch 3/10\n",
      "\u001b[1m1348/1348\u001b[0m \u001b[32m━━━━━━━━━━━━━━━━━━━━\u001b[0m\u001b[37m\u001b[0m \u001b[1m3s\u001b[0m 2ms/step - accuracy: 0.0110 - loss: -1275657.1250 - val_accuracy: 0.0115 - val_loss: -2553155.5000\n",
      "Epoch 4/10\n",
      "\u001b[1m1348/1348\u001b[0m \u001b[32m━━━━━━━━━━━━━━━━━━━━\u001b[0m\u001b[37m\u001b[0m \u001b[1m2s\u001b[0m 2ms/step - accuracy: 0.0111 - loss: -3167534.0000 - val_accuracy: 0.0115 - val_loss: -5182503.5000\n",
      "Epoch 5/10\n",
      "\u001b[1m1348/1348\u001b[0m \u001b[32m━━━━━━━━━━━━━━━━━━━━\u001b[0m\u001b[37m\u001b[0m \u001b[1m2s\u001b[0m 2ms/step - accuracy: 0.0097 - loss: -6095093.5000 - val_accuracy: 0.0115 - val_loss: -8938492.0000\n",
      "Epoch 6/10\n",
      "\u001b[1m1348/1348\u001b[0m \u001b[32m━━━━━━━━━━━━━━━━━━━━\u001b[0m\u001b[37m\u001b[0m \u001b[1m2s\u001b[0m 2ms/step - accuracy: 0.0096 - loss: -10200841.0000 - val_accuracy: 0.0115 - val_loss: -13950233.0000\n",
      "Epoch 7/10\n",
      "\u001b[1m1348/1348\u001b[0m \u001b[32m━━━━━━━━━━━━━━━━━━━━\u001b[0m\u001b[37m\u001b[0m \u001b[1m3s\u001b[0m 2ms/step - accuracy: 0.0106 - loss: -15618996.0000 - val_accuracy: 0.0115 - val_loss: -20363740.0000\n",
      "Epoch 8/10\n",
      "\u001b[1m1348/1348\u001b[0m \u001b[32m━━━━━━━━━━━━━━━━━━━━\u001b[0m\u001b[37m\u001b[0m \u001b[1m5s\u001b[0m 2ms/step - accuracy: 0.0099 - loss: -22491790.0000 - val_accuracy: 0.0115 - val_loss: -28315378.0000\n",
      "Epoch 9/10\n",
      "\u001b[1m1348/1348\u001b[0m \u001b[32m━━━━━━━━━━━━━━━━━━━━\u001b[0m\u001b[37m\u001b[0m \u001b[1m2s\u001b[0m 2ms/step - accuracy: 0.0110 - loss: -30883308.0000 - val_accuracy: 0.0115 - val_loss: -37947676.0000\n",
      "Epoch 10/10\n",
      "\u001b[1m1348/1348\u001b[0m \u001b[32m━━━━━━━━━━━━━━━━━━━━\u001b[0m\u001b[37m\u001b[0m \u001b[1m2s\u001b[0m 2ms/step - accuracy: 0.0111 - loss: -40992068.0000 - val_accuracy: 0.0115 - val_loss: -49394304.0000\n"
     ]
    },
    {
     "name": "stderr",
     "output_type": "stream",
     "text": [
      "WARNING:absl:You are saving your model as an HDF5 file via `model.save()` or `keras.saving.save_model(model)`. This file format is considered legacy. We recommend using instead the native Keras format, e.g. `model.save('my_model.keras')` or `keras.saving.save_model(model, 'my_model.keras')`. \n"
     ]
    },
    {
     "name": "stdout",
     "output_type": "stream",
     "text": [
      "Saving the model...\n",
      "Model training and saving took 28.37 seconds\n",
      "\u001b[1m1498/1498\u001b[0m \u001b[32m━━━━━━━━━━━━━━━━━━━━\u001b[0m\u001b[37m\u001b[0m \u001b[1m2s\u001b[0m 1ms/step\n",
      "\u001b[1m375/375\u001b[0m \u001b[32m━━━━━━━━━━━━━━━━━━━━\u001b[0m\u001b[37m\u001b[0m \u001b[1m0s\u001b[0m 1ms/step\n",
      "Training Set Metrics:\n",
      "Training Accuracy CNN: 1.06%\n",
      "Training Precision CNN: 0.01%\n",
      "Training Recall CNN: 1.06%\n",
      "\n",
      "Test Set Metrics:\n",
      "Test Accuracy CNN: 1.14%\n",
      "Test Precision CNN: 0.01%\n",
      "Test Recall CNN: 1.14%\n"
     ]
    },
    {
     "name": "stderr",
     "output_type": "stream",
     "text": [
      "C:\\Users\\WELCOME\\AppData\\Local\\Programs\\Python\\Python312\\Lib\\site-packages\\sklearn\\metrics\\_classification.py:1509: UndefinedMetricWarning: Precision is ill-defined and being set to 0.0 in labels with no predicted samples. Use `zero_division` parameter to control this behavior.\n",
      "  _warn_prf(average, modifier, f\"{metric.capitalize()} is\", len(result))\n",
      "C:\\Users\\WELCOME\\AppData\\Local\\Programs\\Python\\Python312\\Lib\\site-packages\\sklearn\\metrics\\_classification.py:1509: UndefinedMetricWarning: Precision is ill-defined and being set to 0.0 in labels with no predicted samples. Use `zero_division` parameter to control this behavior.\n",
      "  _warn_prf(average, modifier, f\"{metric.capitalize()} is\", len(result))\n"
     ]
    }
   ],
   "source": [
    "if __name__ == \"__main__\":\n",
    "    num_rows = None  # Set the number of rows for training (e.g., num_rows = 1000000)\n",
    "    train_and_save_model(num_rows)"
   ]
  },
  {
   "cell_type": "code",
   "execution_count": null,
   "id": "feed16f0-1216-4583-bd7d-10b413e8960f",
   "metadata": {},
   "outputs": [],
   "source": []
  }
 ],
 "metadata": {
  "kernelspec": {
   "display_name": "Python 3 (ipykernel)",
   "language": "python",
   "name": "python3"
  },
  "language_info": {
   "codemirror_mode": {
    "name": "ipython",
    "version": 3
   },
   "file_extension": ".py",
   "mimetype": "text/x-python",
   "name": "python",
   "nbconvert_exporter": "python",
   "pygments_lexer": "ipython3",
   "version": "3.8.16"
  }
 },
 "nbformat": 4,
 "nbformat_minor": 5
}
